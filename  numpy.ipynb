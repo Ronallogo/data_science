{
 "cells": [
  {
   "cell_type": "code",
   "execution_count": 399,
   "metadata": {},
   "outputs": [],
   "source": [
    "#Get a specific row tab[r , c]\n",
    "#indexation is :\n",
    "#tab[r(index :position :step) , c(index :position :step)]"
   ]
  },
  {
   "cell_type": "code",
   "execution_count": 400,
   "metadata": {},
   "outputs": [],
   "source": [
    "import numpy as np\n",
    "data  = np.array([\n",
    "    [85, 90, 88],\n",
    "    [89, 92, 91],\n",
    "    [78, 85, 80],\n",
    "    [92, 88, 89]\n",
    "])"
   ]
  },
  {
   "cell_type": "code",
   "execution_count": 401,
   "metadata": {
    "notebookRunGroups": {
     "groupValue": ""
    }
   },
   "outputs": [
    {
     "name": "stdout",
     "output_type": "stream",
     "text": [
      "[[85 90 88]\n",
      " [89 92 91]\n",
      " [78 85 80]\n",
      " [92 88 89]]\n"
     ]
    }
   ],
   "source": [
    "#afficher data\n",
    "\n",
    "print(data)\n",
    " "
   ]
  },
  {
   "cell_type": "code",
   "execution_count": 429,
   "metadata": {},
   "outputs": [
    {
     "data": {
      "text/plain": [
       "89"
      ]
     },
     "execution_count": 429,
     "metadata": {},
     "output_type": "execute_result"
    }
   ],
   "source": [
    "#display the second team score in the first test\n",
    "data[1 , 0]"
   ]
  },
  {
   "cell_type": "code",
   "execution_count": 403,
   "metadata": {},
   "outputs": [
    {
     "data": {
      "text/plain": [
       "array([90, 92, 85, 88])"
      ]
     },
     "execution_count": 403,
     "metadata": {},
     "output_type": "execute_result"
    }
   ],
   "source": [
    "#display the all team scores in  the second test\n",
    "\n",
    "data[: , 1]"
   ]
  },
  {
   "cell_type": "code",
   "execution_count": 404,
   "metadata": {},
   "outputs": [
    {
     "data": {
      "text/plain": [
       "array([88, 91])"
      ]
     },
     "execution_count": 404,
     "metadata": {},
     "output_type": "execute_result"
    }
   ],
   "source": [
    "#display the third test score of two first team\n",
    "data[0:2,2]"
   ]
  },
  {
   "cell_type": "code",
   "execution_count": 424,
   "metadata": {},
   "outputs": [
    {
     "name": "stdout",
     "output_type": "stream",
     "text": [
      "[87.667 91.667 81.    89.667]\n"
     ]
    }
   ],
   "source": [
    "#\n",
    "theMean = np.array([round(np.mean(x) , 3) for x in data])\n",
    "#theMean = round(np.mean(data , axis= 1))\n",
    "print(theMean)\n",
    " "
   ]
  },
  {
   "cell_type": "code",
   "execution_count": 425,
   "metadata": {},
   "outputs": [
    {
     "name": "stdout",
     "output_type": "stream",
     "text": [
      "3\n"
     ]
    }
   ],
   "source": [
    "#display the highest scrore in the first test\n",
    "highFirstTest = np.argmax(data[:,0])\n",
    "#highFirstTest = data[: ,0].max()\n",
    "print(highFirstTest)"
   ]
  },
  {
   "cell_type": "code",
   "execution_count": 407,
   "metadata": {},
   "outputs": [],
   "source": [
    "#change the second team scrore in second test by 95\n",
    "data[1 ,1] = 95"
   ]
  },
  {
   "cell_type": "code",
   "execution_count": 430,
   "metadata": {},
   "outputs": [
    {
     "data": {
      "text/plain": [
       "array([[85, 90, 88],\n",
       "       [89, 95, 91],\n",
       "       [78, 85, 80],\n",
       "       [92, 88, 89],\n",
       "       [90, 86, 88]])"
      ]
     },
     "execution_count": 430,
     "metadata": {},
     "output_type": "execute_result"
    }
   ],
   "source": [
    "# add a new team in data\n",
    "newData = np.append(data, [90,86,88])\n",
    "newData = np.reshape(newData , (5 , 3))\n",
    "newData\n"
   ]
  },
  {
   "cell_type": "code",
   "execution_count": 428,
   "metadata": {},
   "outputs": [
    {
     "name": "stdout",
     "output_type": "stream",
     "text": [
      "the fourth team has 92\n",
      "the fifth team has 90\n"
     ]
    }
   ],
   "source": [
    "#say which team get more than 89 in first test\n",
    "#mask = data[:, 0] >= 90\n",
    "#print(data[mask])\n",
    "rang = np.array([\"first\" , \"second\" , \"third\" , \"fourth\" , \"fifth\"])\n",
    "for k , x in enumerate(newData[: , 0]):\n",
    "    if x >= 90 :\n",
    "        print(f'the {rang[k] } team has {x}')"
   ]
  },
  {
   "cell_type": "code",
   "execution_count": 410,
   "metadata": {},
   "outputs": [
    {
     "data": {
      "text/plain": [
       "array([[85, 88],\n",
       "       [89, 91],\n",
       "       [78, 80],\n",
       "       [92, 89],\n",
       "       [90, 88]])"
      ]
     },
     "execution_count": 410,
     "metadata": {},
     "output_type": "execute_result"
    }
   ],
   "source": [
    "# display the first and last score of all teams\n",
    "top_score = newData[:,0 : 3 : 2]\n",
    "top_score\n"
   ]
  },
  {
   "cell_type": "code",
   "execution_count": 416,
   "metadata": {},
   "outputs": [
    {
     "data": {
      "text/plain": [
       "array([[170, 176],\n",
       "       [178, 182],\n",
       "       [156, 160],\n",
       "       [184, 178],\n",
       "       [180, 176]])"
      ]
     },
     "execution_count": 416,
     "metadata": {},
     "output_type": "execute_result"
    }
   ],
   "source": [
    "#mutiply  the tab top score by 2\n",
    "\n",
    "double = top_score * 2\n",
    "double\n"
   ]
  },
  {
   "cell_type": "code",
   "execution_count": 427,
   "metadata": {},
   "outputs": [],
   "source": [
    "indices = np.where((data[:, 0] == 85) & (data[:, -1] == 85))\n"
   ]
  }
 ],
 "metadata": {
  "kernelspec": {
   "display_name": "Python 3 (ipykernel)",
   "language": "python",
   "name": "python3"
  },
  "language_info": {
   "codemirror_mode": {
    "name": "ipython",
    "version": 3
   },
   "file_extension": ".py",
   "mimetype": "text/x-python",
   "name": "python",
   "nbconvert_exporter": "python",
   "pygments_lexer": "ipython3",
   "version": "3.11.5"
  }
 },
 "nbformat": 4,
 "nbformat_minor": 5
}
