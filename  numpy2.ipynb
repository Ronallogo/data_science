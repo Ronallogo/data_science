{
 "cells": [
  {
   "cell_type": "code",
   "execution_count": 14,
   "metadata": {},
   "outputs": [
    {
     "name": "stdout",
     "output_type": "stream",
     "text": [
      "[[78 92 85 88]\n",
      " [88 85 90 82]\n",
      " [68 75 80 74]\n",
      " [95 98 92 93]\n",
      " [82 88 78 85]]\n"
     ]
    }
   ],
   "source": [
    "import numpy as np\n",
    "\n",
    "# Tableau de données (résultats de l'examen)\n",
    "data = np.array([\n",
    "    [78, 92, 85, 88],\n",
    "    [88, 85, 90, 82],\n",
    "    [68, 75, 80, 74],\n",
    "    [95, 98, 92, 93],\n",
    "    [82, 88, 78, 85]\n",
    "])\n",
    "\n",
    "print(data)"
   ]
  },
  {
   "cell_type": "code",
   "execution_count": 15,
   "metadata": {},
   "outputs": [
    {
     "data": {
      "text/plain": [
       "[85.75, 86.25, 74.25, 94.5, 83.25]"
      ]
     },
     "execution_count": 15,
     "metadata": {},
     "output_type": "execute_result"
    }
   ],
   "source": [
    "theMean = [np.round(np.mean(x) , 2) for x in data]\n",
    "theMean"
   ]
  },
  {
   "cell_type": "code",
   "execution_count": 16,
   "metadata": {},
   "outputs": [
    {
     "data": {
      "text/plain": [
       "array([[78., 92., 85., 88., 86.],\n",
       "       [88., 85., 90., 82., 86.],\n",
       "       [68., 75., 80., 74., 74.],\n",
       "       [95., 98., 92., 93., 94.],\n",
       "       [82., 88., 78., 85., 83.]])"
      ]
     },
     "execution_count": 16,
     "metadata": {},
     "output_type": "execute_result"
    }
   ],
   "source": [
    "data = np.column_stack((data , np.round(theMean)))\n",
    "data"
   ]
  },
  {
   "cell_type": "code",
   "execution_count": 17,
   "metadata": {},
   "outputs": [
    {
     "data": {
      "text/plain": [
       "array([92., 95., 98., 92., 93., 94.])"
      ]
     },
     "execution_count": 17,
     "metadata": {},
     "output_type": "execute_result"
    }
   ],
   "source": [
    "highest = data[np.where(data > 90 )]\n",
    "highest"
   ]
  },
  {
   "cell_type": "code",
   "execution_count": 18,
   "metadata": {},
   "outputs": [
    {
     "data": {
      "text/plain": [
       "array([[78., 92., 85., 93., 86.],\n",
       "       [88., 85., 90., 87., 86.],\n",
       "       [68., 75., 80., 79., 74.],\n",
       "       [95., 98., 92., 98., 94.],\n",
       "       [82., 88., 78., 90., 83.]])"
      ]
     },
     "execution_count": 18,
     "metadata": {},
     "output_type": "execute_result"
    }
   ],
   "source": [
    "data[: , 3] += 5\n",
    "data "
   ]
  },
  {
   "cell_type": "code",
   "execution_count": 27,
   "metadata": {},
   "outputs": [
    {
     "data": {
      "text/plain": [
       "array([['fail', 'win', 'win'],\n",
       "       ['win', 'win', 'win'],\n",
       "       ['fail', 'fail', 'win'],\n",
       "       ['win', 'win', 'win'],\n",
       "       ['win', 'win', 'fail']], dtype='<U4')"
      ]
     },
     "execution_count": 27,
     "metadata": {},
     "output_type": "execute_result"
    }
   ],
   "source": [
    "pass_fail = np.where(data[:,:3] >= 80 ,\"win\" ,\"fail\" )\n",
    "pass_fail"
   ]
  },
  {
   "cell_type": "code",
   "execution_count": 29,
   "metadata": {},
   "outputs": [
    {
     "name": "stdout",
     "output_type": "stream",
     "text": [
      "4\n"
     ]
    },
    {
     "data": {
      "text/plain": [
       "11"
      ]
     },
     "execution_count": 29,
     "metadata": {},
     "output_type": "execute_result"
    }
   ],
   "source": [
    "num_fail = np.sum(pass_fail == 'fail')\n",
    "num_win = np.sum(pass_fail == 'win')\n",
    "print(num_fail)\n",
    "num_win"
   ]
  },
  {
   "cell_type": "code",
   "execution_count": 31,
   "metadata": {},
   "outputs": [
    {
     "data": {
      "text/plain": [
       "array([[68., 75., 80., 79., 74.],\n",
       "       [88., 85., 90., 87., 86.],\n",
       "       [82., 88., 78., 90., 83.],\n",
       "       [78., 92., 85., 93., 86.],\n",
       "       [95., 98., 92., 98., 94.]])"
      ]
     },
     "execution_count": 31,
     "metadata": {},
     "output_type": "execute_result"
    }
   ],
   "source": [
    "data = data[data[:,1].argsort()]\n",
    "data"
   ]
  },
  {
   "cell_type": "code",
   "execution_count": 32,
   "metadata": {},
   "outputs": [
    {
     "data": {
      "text/plain": [
       "array([75., 85.])"
      ]
     },
     "execution_count": 32,
     "metadata": {},
     "output_type": "execute_result"
    }
   ],
   "source": [
    "data[:2 , 1]"
   ]
  },
  {
   "cell_type": "code",
   "execution_count": 34,
   "metadata": {},
   "outputs": [
    {
     "data": {
      "text/plain": [
       "array([95., 98., 92., 98., 94.])"
      ]
     },
     "execution_count": 34,
     "metadata": {},
     "output_type": "execute_result"
    }
   ],
   "source": [
    "best_subject = np.max(data , axis= 0)\n",
    "best_subject"
   ]
  }
 ],
 "metadata": {
  "kernelspec": {
   "display_name": "Python 3 (ipykernel)",
   "language": "python",
   "name": "python3"
  },
  "language_info": {
   "codemirror_mode": {
    "name": "ipython",
    "version": 3
   },
   "file_extension": ".py",
   "mimetype": "text/x-python",
   "name": "python",
   "nbconvert_exporter": "python",
   "pygments_lexer": "ipython3",
   "version": "3.11.5"
  }
 },
 "nbformat": 4,
 "nbformat_minor": 5
}
