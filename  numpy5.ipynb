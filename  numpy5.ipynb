{
 "cells": [
  {
   "cell_type": "markdown",
   "metadata": {},
   "source": [
    "import numpy as np\n",
    "\n",
    "# Exercice : Opérations avec NumPy\n",
    "\n",
    "# Générez un tableau 2D représentant les notes des étudiants pour trois matières (10 étudiants, 3 matières).\n",
    "# Les notes doivent être des nombres entiers aléatoires entre 0 et 100 inclus.\n",
    "\n",
    "# 1. Affichez le tableau des notes.\n",
    "\n",
    "# 2. Calculez et affichez la moyenne des notes pour chaque étudiant.\n",
    "\n",
    "# 3. Trouvez et affichez le numéro de l'étudiant avec la meilleure moyenne.\n",
    "\n",
    "# 4. Ajoutez une nouvelle matière (quatrième colonne) représentant les notes d'un nouvel examen.\n",
    "#    Les notes doivent être des nombres aléatoires entre 50 et 90 inclus.\n",
    "\n",
    "# 5. Calculez et affichez la moyenne des notes pour chaque matière.\n",
    "\n",
    "# 6. Sélectionnez et affichez les notes des étudiants qui ont réussi tous les examens (moyenne >= 60).\n",
    "\n",
    "# 7. Remplacez les notes du deuxième étudiant dans la première matière par la note maximale possible (100).\n",
    "\n",
    "# 8. Triez le tableau des notes par ordre décroissant des moyennes des étudiants.\n",
    "\n",
    "# 9. Affichez le tableau après chaque opération pour vérifier les résultats.\n",
    "\n",
    "# 10. Bonus : Calculez la médiane des notes pour chaque matière.\n",
    "\n",
    "# Votre code ici...\n"
   ]
  },
  {
   "cell_type": "markdown",
   "metadata": {},
   "source": [
    "np.random.seed(42)  # Pour assurer la reproductibilité des résultats\n",
    "grades = np.random.randint(0, 101, size=(10, 3))"
   ]
  },
  {
   "cell_type": "code",
   "execution_count": 507,
   "metadata": {},
   "outputs": [
    {
     "data": {
      "text/plain": [
       "array([[93., 74., 98.],\n",
       "       [37., 63., 72.],\n",
       "       [91., 85., 48.],\n",
       "       [85., 50., 93.],\n",
       "       [61., 33., 98.],\n",
       "       [52., 82., 91.],\n",
       "       [89., 41., 91.],\n",
       "       [93., 62., 49.],\n",
       "       [74., 41., 61.],\n",
       "       [63., 70., 91.]])"
      ]
     },
     "execution_count": 507,
     "metadata": {},
     "output_type": "execute_result"
    }
   ],
   "source": [
    "import numpy as np \n",
    "\n",
    "# 1 set data with random value\n",
    "note = np.ones((10,3))\n",
    "for i in range(note.shape[0]) :\n",
    "    for j in range(note.shape[1]):\n",
    "        note[i , j] = np.random.randint(30 , 100)\n",
    "    \n",
    "\n",
    "\n",
    "note "
   ]
  },
  {
   "cell_type": "code",
   "execution_count": 508,
   "metadata": {},
   "outputs": [
    {
     "data": {
      "text/plain": [
       "array([88.33, 57.33, 74.67, 76.  , 64.  , 75.  , 73.67, 68.  , 58.67,\n",
       "       74.67])"
      ]
     },
     "execution_count": 508,
     "metadata": {},
     "output_type": "execute_result"
    }
   ],
   "source": [
    "# 2 average for each  student\n",
    "\n",
    "average = np.round(np.mean(note[:,:] , axis= 1) , 2)\n",
    "average"
   ]
  },
  {
   "cell_type": "code",
   "execution_count": 509,
   "metadata": {},
   "outputs": [
    {
     "name": "stdout",
     "output_type": "stream",
     "text": [
      "The student 0 is the best with 88.33\n"
     ]
    }
   ],
   "source": [
    "# 3 display the student with the best average \n",
    "\n",
    "print(f'The student {np.argmax(average)} is the best with {np.max(average)}')"
   ]
  },
  {
   "cell_type": "markdown",
   "metadata": {},
   "source": [
    "new_exam_scores = np.random.randint(50, 91, size=(10, 1))\n",
    "grades = np.hstack((grades, new_exam_scores))"
   ]
  },
  {
   "cell_type": "code",
   "execution_count": 510,
   "metadata": {},
   "outputs": [],
   "source": [
    "#  4 add a new column\n",
    "a = np.ones((10))\n",
    "for i in  range(10):\n",
    "    a[i] = np.random.choice(np.arange(50,90))\n",
    "a\n",
    "note = np.concatenate((a.reshape(-1,1) , note) , axis= 1)\n"
   ]
  },
  {
   "cell_type": "code",
   "execution_count": 511,
   "metadata": {},
   "outputs": [
    {
     "data": {
      "text/plain": [
       "array([70.3, 73.8, 60.1, 79.2])"
      ]
     },
     "execution_count": 511,
     "metadata": {},
     "output_type": "execute_result"
    }
   ],
   "source": [
    "# 5 calculate the average by course\n",
    "average_by_course = np.mean(note , axis=0)\n",
    "average_by_course"
   ]
  },
  {
   "cell_type": "code",
   "execution_count": 512,
   "metadata": {},
   "outputs": [
    {
     "data": {
      "text/plain": [
       "array([[88.33],\n",
       "       [ 0.  ],\n",
       "       [74.67],\n",
       "       [76.  ],\n",
       "       [64.  ],\n",
       "       [75.  ],\n",
       "       [73.67],\n",
       "       [68.  ],\n",
       "       [ 0.  ],\n",
       "       [74.67]])"
      ]
     },
     "execution_count": 512,
     "metadata": {},
     "output_type": "execute_result"
    }
   ],
   "source": [
    "# 6 display the student with average >= 60 \n",
    "np.where(average >= 60 , average    , 0).reshape(-1,1)"
   ]
  },
  {
   "cell_type": "code",
   "execution_count": 513,
   "metadata": {},
   "outputs": [
    {
     "data": {
      "text/plain": [
       "array([[ 65.,  93.,  74.,  98.],\n",
       "       [100.,  37.,  63.,  72.],\n",
       "       [ 83.,  91.,  85.,  48.],\n",
       "       [ 68.,  85.,  50.,  93.],\n",
       "       [ 57.,  61.,  33.,  98.],\n",
       "       [ 69.,  52.,  82.,  91.],\n",
       "       [ 89.,  89.,  41.,  91.],\n",
       "       [ 58.,  93.,  62.,  49.],\n",
       "       [ 56.,  74.,  41.,  61.],\n",
       "       [ 84.,  63.,  70.,  91.]])"
      ]
     },
     "execution_count": 513,
     "metadata": {},
     "output_type": "execute_result"
    }
   ],
   "source": [
    "# 7 replace the first score of second student by 100\n",
    "note[1,0] = 100\n",
    "note"
   ]
  },
  {
   "cell_type": "code",
   "execution_count": 515,
   "metadata": {},
   "outputs": [
    {
     "data": {
      "text/plain": [
       "array([[ 65.,  74.,  93.,  98.],\n",
       "       [ 37.,  63.,  72., 100.],\n",
       "       [ 48.,  83.,  85.,  91.],\n",
       "       [ 50.,  68.,  85.,  93.],\n",
       "       [ 33.,  57.,  61.,  98.],\n",
       "       [ 52.,  69.,  82.,  91.],\n",
       "       [ 41.,  89.,  89.,  91.],\n",
       "       [ 49.,  58.,  62.,  93.],\n",
       "       [ 41.,  56.,  61.,  74.],\n",
       "       [ 63.,  70.,  84.,  91.]])"
      ]
     },
     "execution_count": 515,
     "metadata": {},
     "output_type": "execute_result"
    }
   ],
   "source": [
    "#8  \n",
    "note.sort()\n",
    "note\n"
   ]
  },
  {
   "cell_type": "code",
   "execution_count": 517,
   "metadata": {},
   "outputs": [
    {
     "data": {
      "text/plain": [
       "71.0"
      ]
     },
     "execution_count": 517,
     "metadata": {},
     "output_type": "execute_result"
    }
   ],
   "source": [
    "#9\n",
    "mediane = np.median(note)\n",
    "mediane"
   ]
  }
 ],
 "metadata": {
  "kernelspec": {
   "display_name": "Python 3 (ipykernel)",
   "language": "python",
   "name": "python3"
  },
  "language_info": {
   "codemirror_mode": {
    "name": "ipython",
    "version": 3
   },
   "file_extension": ".py",
   "mimetype": "text/x-python",
   "name": "python",
   "nbconvert_exporter": "python",
   "pygments_lexer": "ipython3",
   "version": "3.11.5"
  }
 },
 "nbformat": 4,
 "nbformat_minor": 5
}
