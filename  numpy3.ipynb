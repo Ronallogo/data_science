{
 "cells": [
  {
   "cell_type": "code",
   "execution_count": 67,
   "id": "c37999ae-3e07-490d-b0b8-ce206d2abdcb",
   "metadata": {},
   "outputs": [
    {
     "name": "stdout",
     "output_type": "stream",
     "text": [
      "25.5 ns ± 5.86 ns per loop (mean ± std. dev. of 7 runs, 10,000,000 loops each)\n"
     ]
    }
   ],
   "source": [
    "import numpy as np\n",
    "\n",
    "# Tableau de données (notes des élèves pour deux examens dans trois matières)\n",
    "grades = np.array([\n",
    "    [[85, 90, 88], [78, 82, 80]],\n",
    "    [[92, 88, 94], [88, 85, 90]],\n",
    "    [[75, 80, 85], [90, 92, 88]],\n",
    "    [[89, 94, 90], [85, 88, 92]]\n",
    "])\n",
    "\n",
    "grades"
   ]
  },
  {
   "cell_type": "code",
   "execution_count": 68,
   "metadata": {},
   "outputs": [
    {
     "name": "stdout",
     "output_type": "stream",
     "text": [
      "28 ns ± 7.25 ns per loop (mean ± std. dev. of 7 runs, 10,000,000 loops each)\n"
     ]
    }
   ],
   "source": [
    "#display the average of student in the two exams\n",
    "\n",
    "''''\n",
    "average_grades_students = np.mean(grades, axis=2)\n",
    "print(\"2. Moyenne des notes de chaque matière pour chaque étudiant :\")\n",
    "print(average_grades_students)\n",
    "print()\n",
    "'''\n",
    "theMean = np.round(np.mean(grades , axis= 2) , 2)\n",
    "%timeit theMean"
   ]
  },
  {
   "cell_type": "code",
   "execution_count": 73,
   "metadata": {},
   "outputs": [
    {
     "name": "stdout",
     "output_type": "stream",
     "text": [
      "3. Étudiant 3 ayant la meilleure note moyenne : 89.66666666666666\n",
      "CPU times: total: 15.6 ms\n",
      "Wall time: 999 µs\n"
     ]
    }
   ],
   "source": [
    "#display the student having the highest average \n",
    "\n",
    "best_student = np.max(np.mean(np.mean(grades, axis=2), axis=1))\n",
    "index_best_student = np.argmax(np.mean(np.mean(grades, axis=2), axis=1))\n",
    "%time print(f'3. Étudiant {index_best_student} ayant la meilleure note moyenne :', best_student)\n",
    "\n",
    " \n",
    "\n"
   ]
  },
  {
   "cell_type": "code",
   "execution_count": 81,
   "metadata": {},
   "outputs": [
    {
     "data": {
      "text/plain": [
       "array([[[85., 90., 88., 65.],\n",
       "        [78., 82., 80., 77.]],\n",
       "\n",
       "       [[92., 88., 94., 95.],\n",
       "        [88., 85., 90., 92.]],\n",
       "\n",
       "       [[75., 80., 85., 68.],\n",
       "        [90., 92., 88., 88.]],\n",
       "\n",
       "       [[89., 94., 90., 62.],\n",
       "        [85., 88., 92., 84.]]])"
      ]
     },
     "execution_count": 81,
     "metadata": {},
     "output_type": "execute_result"
    }
   ],
   "source": [
    "#reset the grades \n",
    "\n",
    "newGrades = np.array([])\n",
    "newGrades.resize(4,2,4)\n",
    "\n",
    "for i in range(grades.shape[0]):\n",
    "    for j in range(grades.shape[1]):\n",
    "         \n",
    "        newGrades[i , j] =  np.insert(grades[i,j] ,3, np.random.choice(np.array(np.arange( 60 ,100))))\n",
    "        \n",
    "newGrades\n",
    "\n"
   ]
  },
  {
   "cell_type": "code",
   "execution_count": 91,
   "metadata": {},
   "outputs": [
    {
     "name": "stdout",
     "output_type": "stream",
     "text": [
      "5. Moyenne des notes pour chaque matière :\n",
      "23.7 ns ± 2.15 ns per loop (mean ± std. dev. of 7 runs, 10,000,000 loops each)\n"
     ]
    }
   ],
   "source": [
    "#display  the new average\n",
    "\n",
    "courseMean = np.mean(grades , axis=0)\n",
    "courseMean\n",
    "average_grades_subjects = np.mean(np.mean(grades, axis=0), axis=1)\n",
    "print(\"5. Moyenne des notes pour chaque matière :\")\n",
    "%timeit average_grades_subjects\n",
    "\n",
    "\n",
    " "
   ]
  },
  {
   "cell_type": "code",
   "execution_count": 84,
   "metadata": {},
   "outputs": [
    {
     "name": "stdout",
     "output_type": "stream",
     "text": [
      "22.8 ns ± 1.73 ns per loop (mean ± std. dev. of 7 runs, 10,000,000 loops each)\n"
     ]
    }
   ],
   "source": [
    "perfect = np.where(newGrades[:,1] == 100 , newGrades[:,1] , np.nan)\n",
    "%timeit perfect\n",
    " "
   ]
  },
  {
   "cell_type": "code",
   "execution_count": 92,
   "metadata": {},
   "outputs": [
    {
     "name": "stdout",
     "output_type": "stream",
     "text": [
      "23.9 ns ± 2.04 ns per loop (mean ± std. dev. of 7 runs, 10,000,000 loops each)\n"
     ]
    }
   ],
   "source": [
    "firstExam = newGrades[:,0]\n",
    "%timeit  firstExam\n",
    " \n",
    " "
   ]
  },
  {
   "cell_type": "code",
   "execution_count": 59,
   "metadata": {},
   "outputs": [
    {
     "data": {
      "text/plain": [
       "array([[[85., 92., 75., 89.],\n",
       "        [78., 88., 90., 85.]],\n",
       "\n",
       "       [[90., 88., 80., 94.],\n",
       "        [82., 85., 92., 88.]],\n",
       "\n",
       "       [[88., 94., 85., 90.],\n",
       "        [80., 90., 88., 92.]],\n",
       "\n",
       "       [[76., 83., 73., 76.],\n",
       "        [64., 68., 74., 61.]]])"
      ]
     },
     "execution_count": 59,
     "metadata": {},
     "output_type": "execute_result"
    }
   ],
   "source": [
    "newGrades.T"
   ]
  }
 ],
 "metadata": {
  "kernelspec": {
   "display_name": "Python 3 (ipykernel)",
   "language": "python",
   "name": "python3"
  },
  "language_info": {
   "codemirror_mode": {
    "name": "ipython",
    "version": 3
   },
   "file_extension": ".py",
   "mimetype": "text/x-python",
   "name": "python",
   "nbconvert_exporter": "python",
   "pygments_lexer": "ipython3",
   "version": "3.11.5"
  }
 },
 "nbformat": 4,
 "nbformat_minor": 5
}
