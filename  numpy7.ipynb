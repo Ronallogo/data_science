{
 "cells": [
  {
   "cell_type": "markdown",
   "metadata": {},
   "source": [
    "# Exercice : Manipulation avancée de données avec NumPy\n",
    "\n",
    "# Vous travaillez avec les résultats de cinq étudiants pour six devoirs (chaque note est sur 20).\n",
    "# Générez un tableau de données pour représenter cela.\n",
    "\n",
    "# 1. Affichez le tableau des résultats.\n",
    "\n",
    "# 2. Calculez et affichez la moyenne de chaque étudiant.\n",
    "\n",
    "# 3. Calculez et affichez la moyenne de chaque devoir.\n",
    "\n",
    "# 4. Ajoutez une colonne représentant la note d'un projet (sur 50).\n",
    "\n",
    "# 5. Calculez et affichez la moyenne de chaque étudiant, y compris la note du projet.\n",
    "\n",
    "# 6. Trouvez et affichez les devoirs où la note moyenne de la classe est inférieure à 15.\n",
    "\n",
    "# 7. Remplacez les notes des deux derniers étudiants pour le deuxième devoir par des notes aléatoires entre 10 et 15.\n",
    "\n",
    "# 8. Tirez aléatoirement les notes pour un nouvel étudiant et ajoutez-les comme une nouvelle ligne dans le tableau.\n",
    "\n",
    "# 9. Calculez et affichez la transposée du tableau (échangez les lignes et les colonnes).\n",
    "\n",
    "# 10. Calculez et affichez la somme cumulative des notes de chaque étudiant pour chaque devoir.\n",
    "\n",
    "# 11. Trouvez et affichez l'indice de l'étudiant avec la meilleure performance (la somme cumulative la plus élevée).\n",
    "\n",
    "# 12. Bonus : Calculez la médiane de chaque devoir.\n",
    "\n",
    "# Votre code ici..."
   ]
  },
  {
   "cell_type": "code",
   "execution_count": 198,
   "id": "1d62b2d7-8add-4b86-b8a9-976c91332228",
   "metadata": {},
   "outputs": [
    {
     "data": {
      "text/plain": [
       "array([[ 6,  4, 16, 15,  4, 10],\n",
       "       [ 0,  8,  7, 16,  1, 14],\n",
       "       [ 2, 19,  4, 17,  8, 16],\n",
       "       [18, 19,  1,  8,  6,  0],\n",
       "       [17, 16, 15, 10,  0,  2]])"
      ]
     },
     "execution_count": 198,
     "metadata": {},
     "output_type": "execute_result"
    }
   ],
   "source": [
    "\n",
    "import numpy as np\n",
    "\n",
    "data_set = np.random.randint(0,20,size=(5,6))\n",
    "data_set\n",
    "\n",
    " \n",
    "\n"
   ]
  },
  {
   "cell_type": "code",
   "execution_count": 199,
   "metadata": {},
   "outputs": [
    {
     "data": {
      "text/plain": [
       "array([ 9.17,  7.67, 11.  ,  8.67, 10.  ])"
      ]
     },
     "execution_count": 199,
     "metadata": {},
     "output_type": "execute_result"
    }
   ],
   "source": [
    "# 2  display the average of each student \n",
    "average_student = np.round(np.mean(data_set , axis= 1),2)\n",
    "average_student"
   ]
  },
  {
   "cell_type": "code",
   "execution_count": 200,
   "metadata": {},
   "outputs": [
    {
     "data": {
      "text/plain": [
       "array([ 8.6, 13.2,  8.6, 13.2,  3.8,  8.4])"
      ]
     },
     "execution_count": 200,
     "metadata": {},
     "output_type": "execute_result"
    }
   ],
   "source": [
    "# 3 display the average of each course\n",
    "average_course = np.round(np.mean(data_set , axis= 0),2)\n",
    "average_course"
   ]
  },
  {
   "cell_type": "code",
   "execution_count": 201,
   "metadata": {},
   "outputs": [
    {
     "data": {
      "text/plain": [
       "array([[ 6,  4, 16, 15,  4, 10, 33],\n",
       "       [ 0,  8,  7, 16,  1, 14,  0],\n",
       "       [ 2, 19,  4, 17,  8, 16, 23],\n",
       "       [18, 19,  1,  8,  6,  0, 48],\n",
       "       [17, 16, 15, 10,  0,  2,  8]])"
      ]
     },
     "execution_count": 201,
     "metadata": {},
     "output_type": "execute_result"
    }
   ],
   "source": [
    "# 4  add a score project\n",
    "project_score = np.random.randint(0,50,size=(5))\n",
    "\n",
    "data_set = np.hstack((data_set , project_score.reshape(-1,1)))\n",
    "data_set\n",
    "\n"
   ]
  },
  {
   "cell_type": "code",
   "execution_count": 202,
   "metadata": {},
   "outputs": [
    {
     "data": {
      "text/plain": [
       "array([12.57,  6.57, 12.71, 14.29,  9.71])"
      ]
     },
     "execution_count": 202,
     "metadata": {},
     "output_type": "execute_result"
    }
   ],
   "source": [
    "# 5 calculate the big average\n",
    "big_average = np.round(np.mean(data_set,axis= 1),2)\n",
    "big_average"
   ]
  },
  {
   "cell_type": "code",
   "execution_count": 203,
   "metadata": {},
   "outputs": [
    {
     "data": {
      "text/plain": [
       "(array([0, 1, 2, 3, 4, 5], dtype=int64),)"
      ]
     },
     "execution_count": 203,
     "metadata": {},
     "output_type": "execute_result"
    }
   ],
   "source": [
    "# 6 display the examen  average less than 15\n",
    "less_than_15 =  np.where(np.mean(data_set , axis= 0) < 15 )\n",
    "less_than_15\n"
   ]
  },
  {
   "cell_type": "code",
   "execution_count": 204,
   "metadata": {},
   "outputs": [
    {
     "data": {
      "text/plain": [
       "array([[ 6,  4, 16, 15,  4, 10, 33],\n",
       "       [ 0, 13,  7, 16,  1, 14,  0],\n",
       "       [ 2, 19,  4, 17,  8, 16, 23],\n",
       "       [18, 19,  1,  8,  6,  0, 48],\n",
       "       [17, 16, 15, 10,  0,  2,  8]])"
      ]
     },
     "execution_count": 204,
     "metadata": {},
     "output_type": "execute_result"
    }
   ],
   "source": [
    "# 7 replace the second student score at the second examen by  random number between 10 and  15\n",
    "\n",
    "data_set[1,1]  = np.random.randint(10,15)\n",
    "data_set"
   ]
  },
  {
   "cell_type": "code",
   "execution_count": 205,
   "metadata": {},
   "outputs": [
    {
     "data": {
      "text/plain": [
       "array([[ 6,  4, 16, 15,  4, 10, 33],\n",
       "       [ 0, 13,  7, 16,  1, 14,  0],\n",
       "       [ 2, 19,  4, 17,  8, 16, 23],\n",
       "       [18, 19,  1,  8,  6,  0, 48],\n",
       "       [17, 16, 15, 10,  0,  2,  8],\n",
       "       [ 4, 15, 19,  4, 17, 16, 25]])"
      ]
     },
     "execution_count": 205,
     "metadata": {},
     "output_type": "execute_result"
    }
   ],
   "source": [
    "# 8 add new student\n",
    "\n",
    "new_student = np.random.randint(0,20,size=(7))\n",
    "new_student[-1] = np.random.randint(0,50)\n",
    "data_set = np.vstack((data_set , new_student))\n",
    "data_set"
   ]
  },
  {
   "cell_type": "code",
   "execution_count": 206,
   "metadata": {},
   "outputs": [
    {
     "data": {
      "text/plain": [
       "array([[ 6,  0,  2, 18, 17,  4],\n",
       "       [ 4, 13, 19, 19, 16, 15],\n",
       "       [16,  7,  4,  1, 15, 19],\n",
       "       [15, 16, 17,  8, 10,  4],\n",
       "       [ 4,  1,  8,  6,  0, 17],\n",
       "       [10, 14, 16,  0,  2, 16],\n",
       "       [33,  0, 23, 48,  8, 25]])"
      ]
     },
     "execution_count": 206,
     "metadata": {},
     "output_type": "execute_result"
    }
   ],
   "source": [
    "# transpose a dataset\n",
    "data_set.T"
   ]
  },
  {
   "cell_type": "code",
   "execution_count": 207,
   "metadata": {},
   "outputs": [
    {
     "data": {
      "text/plain": [
       "array([[  6,  10,  26,  41,  45,  55,  88],\n",
       "       [  0,  13,  20,  36,  37,  51,  51],\n",
       "       [  2,  21,  25,  42,  50,  66,  89],\n",
       "       [ 18,  37,  38,  46,  52,  52, 100],\n",
       "       [ 17,  33,  48,  58,  58,  60,  68],\n",
       "       [  4,  19,  38,  42,  59,  75, 100]])"
      ]
     },
     "execution_count": 207,
     "metadata": {},
     "output_type": "execute_result"
    }
   ],
   "source": [
    "#display the cumsum of each student\n",
    "\n",
    "cumsum = np.cumsum(data_set , axis= 1)\n",
    "cumsum"
   ]
  },
  {
   "cell_type": "code",
   "execution_count": 208,
   "metadata": {},
   "outputs": [
    {
     "name": "stdout",
     "output_type": "stream",
     "text": [
      "student 4 is the best with 100\n"
     ]
    }
   ],
   "source": [
    "the_best_student = np.where(cumsum == np.amax(cumsum))\n",
    "print(f'student {the_best_student[0][0] + 1} is the best with {np.amax(cumsum)}')"
   ]
  },
  {
   "cell_type": "code",
   "execution_count": 209,
   "metadata": {},
   "outputs": [
    {
     "data": {
      "text/plain": [
       "array([ 5. , 15.5, 11. , 12.5,  5. , 12. , 24. ])"
      ]
     },
     "execution_count": 209,
     "metadata": {},
     "output_type": "execute_result"
    }
   ],
   "source": [
    "median_examen = np.median(data_set , axis= 0)\n",
    "median_examen"
   ]
  }
 ],
 "metadata": {
  "kernelspec": {
   "display_name": "Python 3 (ipykernel)",
   "language": "python",
   "name": "python3"
  },
  "language_info": {
   "codemirror_mode": {
    "name": "ipython",
    "version": 3
   },
   "file_extension": ".py",
   "mimetype": "text/x-python",
   "name": "python",
   "nbconvert_exporter": "python",
   "pygments_lexer": "ipython3",
   "version": "3.11.5"
  }
 },
 "nbformat": 4,
 "nbformat_minor": 5
}
