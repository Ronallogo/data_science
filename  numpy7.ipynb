{
 "cells": [
  {
   "cell_type": "markdown",
   "metadata": {},
   "source": [
    "# Exercice : Manipulation avancée de données avec NumPy\n",
    "\n",
    "# Vous travaillez avec les résultats de cinq étudiants pour six devoirs (chaque note est sur 20).\n",
    "# Générez un tableau de données pour représenter cela.\n",
    "\n",
    "# 1. Affichez le tableau des résultats.\n",
    "\n",
    "# 2. Calculez et affichez la moyenne de chaque étudiant.\n",
    "\n",
    "# 3. Calculez et affichez la moyenne de chaque devoir.\n",
    "\n",
    "# 4. Ajoutez une colonne représentant la note d'un projet (sur 50).\n",
    "\n",
    "# 5. Calculez et affichez la moyenne de chaque étudiant, y compris la note du projet.\n",
    "\n",
    "# 6. Trouvez et affichez les devoirs où la note moyenne de la classe est inférieure à 15.\n",
    "\n",
    "# 7. Remplacez les notes des deux derniers étudiants pour le deuxième devoir par des notes aléatoires entre 10 et 15.\n",
    "\n",
    "# 8. Tirez aléatoirement les notes pour un nouvel étudiant et ajoutez-les comme une nouvelle ligne dans le tableau.\n",
    "\n",
    "# 9. Calculez et affichez la transposée du tableau (échangez les lignes et les colonnes).\n",
    "\n",
    "# 10. Calculez et affichez la somme cumulative des notes de chaque étudiant pour chaque devoir.\n",
    "\n",
    "# 11. Trouvez et affichez l'indice de l'étudiant avec la meilleure performance (la somme cumulative la plus élevée).\n",
    "\n",
    "# 12. Bonus : Calculez la médiane de chaque devoir.\n",
    "\n",
    "# Votre code ici..."
   ]
  },
  {
   "cell_type": "code",
   "execution_count": null,
   "id": "1d62b2d7-8add-4b86-b8a9-976c91332228",
   "metadata": {},
   "outputs": [],
   "source": [
    "\n",
    "import numpy as np\n",
    "\n",
    "data_set = np.random.randint(0,20,size=(5,6))\n",
    "data_set\n",
    "\n",
    " \n",
    "\n",
    "# 2  display the average of each student \n",
    "average_student = np.round(np.mean(data_set , axis= 1),2)\n",
    "average_student\n",
    "# 3 display the average of each course\n",
    "average_course = np.round(np.mean(data_set , axis= 0),2)\n",
    "average_course\n"
   ]
  }
 ],
 "metadata": {
  "kernelspec": {
   "display_name": "Python 3 (ipykernel)",
   "language": "python",
   "name": "python3"
  },
  "language_info": {
   "codemirror_mode": {
    "name": "ipython",
    "version": 3
   },
   "file_extension": ".py",
   "mimetype": "text/x-python",
   "name": "python",
   "nbconvert_exporter": "python",
   "pygments_lexer": "ipython3",
   "version": "3.10.13"
  }
 },
 "nbformat": 4,
 "nbformat_minor": 5
}
