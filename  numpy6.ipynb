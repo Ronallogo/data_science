{
 "cells": [
  {
   "cell_type": "markdown",
   "metadata": {},
   "source": [
    "import numpy as np\n",
    "\n",
    "# Exercice : Manipulation de données avec NumPy\n",
    "\n",
    "# Imaginez que vous ayez les résultats de trois étudiants pour quatre devoirs (chaque note est sur 20).\n",
    "# Générez un tableau de données pour représenter cela.\n",
    "\n",
    "# 1. Affichez le tableau des résultats.\n",
    "\n",
    "# 2. Calculez et affichez la moyenne de chaque étudiant.\n",
    "\n",
    "# 3. Calculez et affichez la moyenne de chaque devoir.\n",
    "\n",
    "# 4. Ajoutez une colonne représentant la note d'un examen final (sur 100).\n",
    "\n",
    "# 5. Calculez et affichez la moyenne de chaque étudiant, y compris la note de l'examen final.\n",
    "\n",
    "# 6. Trouvez et affichez les étudiants qui ont obtenu une moyenne supérieure à 15.\n",
    "\n",
    "# 7. Remplacez la note du deuxième étudiant pour le deuxième devoir par une note parfaite (20).\n",
    "\n",
    "# 8. Tirez aléatoirement les notes pour un nouvel étudiant et ajoutez-les comme une nouvelle ligne dans le tableau.\n",
    "\n",
    "# 9. Calculez et affichez la transposée du tableau (échangez les lignes et les colonnes).\n",
    "\n",
    "# 10. Bonus : Calculez la médiane de chaque devoir.\n",
    "\n",
    "# Votre code ici...\n"
   ]
  },
  {
   "cell_type": "code",
   "execution_count": 146,
   "id": "db86e01f-6f01-43d0-add0-09245983af41",
   "metadata": {},
   "outputs": [
    {
     "data": {
      "text/plain": [
       "array([[ 9,  3, 15, 13],\n",
       "       [13, 14, 11,  6],\n",
       "       [17, 15, 17, 18]])"
      ]
     },
     "execution_count": 146,
     "metadata": {},
     "output_type": "execute_result"
    }
   ],
   "source": [
    "import numpy as np\n",
    "data_set = np.random.randint(0,20 , size=(3,4))\n",
    "data_set"
   ]
  },
  {
   "cell_type": "code",
   "execution_count": 147,
   "metadata": {},
   "outputs": [
    {
     "data": {
      "text/plain": [
       "array([10.  , 11.  , 16.75])"
      ]
     },
     "execution_count": 147,
     "metadata": {},
     "output_type": "execute_result"
    }
   ],
   "source": [
    "# 2 display th average of each student\n",
    "average_student = np.round(np.mean(data_set , axis=1) , 2)\n",
    "average_student"
   ]
  },
  {
   "cell_type": "code",
   "execution_count": 148,
   "metadata": {},
   "outputs": [
    {
     "data": {
      "text/plain": [
       "array([13.  , 10.67, 14.33, 12.33])"
      ]
     },
     "execution_count": 148,
     "metadata": {},
     "output_type": "execute_result"
    }
   ],
   "source": [
    "# 3 display th average of each course\n",
    "average_course =  np.round(np.mean(data_set , axis=0) , 2)\n",
    "average_course\n",
    "\n"
   ]
  },
  {
   "cell_type": "code",
   "execution_count": 149,
   "metadata": {},
   "outputs": [
    {
     "data": {
      "text/plain": [
       "array([[ 9,  3, 15, 13, 98],\n",
       "       [13, 14, 11,  6, 62],\n",
       "       [17, 15, 17, 18, 43]])"
      ]
     },
     "execution_count": 149,
     "metadata": {},
     "output_type": "execute_result"
    }
   ],
   "source": [
    "# 4 add a fianl examen\n",
    "finalExamen = np.random.randint(30,100, size=(3))\n",
    "finalExamen\n",
    "data_set = np.concatenate((data_set , finalExamen.reshape(-1,1)) , axis= 1)\n",
    "data_set"
   ]
  },
  {
   "cell_type": "code",
   "execution_count": 150,
   "metadata": {},
   "outputs": [
    {
     "data": {
      "text/plain": [
       "array([27.6, 21.2, 22. ])"
      ]
     },
     "execution_count": 150,
     "metadata": {},
     "output_type": "execute_result"
    }
   ],
   "source": [
    "# 5 make a big average\n",
    "big_average = np.round(np.mean(data_set , axis= 1) , 2)\n",
    "big_average"
   ]
  },
  {
   "cell_type": "markdown",
   "metadata": {},
   "source": [
    "high_scorers = np.where(average_scores_students_with_final > 15)[0]\n",
    "print(\"6. Étudiants ayant une moyenne supérieure à 15 :\")\n",
    "print(high_scorers)\n",
    "print()"
   ]
  },
  {
   "cell_type": "code",
   "execution_count": 156,
   "metadata": {},
   "outputs": [
    {
     "data": {
      "text/plain": [
       "array([27.6, 21.2, 22. ])"
      ]
     },
     "execution_count": 156,
     "metadata": {},
     "output_type": "execute_result"
    }
   ],
   "source": [
    "# 6 find out the student with a average bigger than 15\n",
    "\n",
    "bigger_than_15 = np.where(big_average > 15  , big_average , 0 )\n",
    "bigger_than_15\n",
    "\n"
   ]
  },
  {
   "cell_type": "code",
   "execution_count": 152,
   "metadata": {},
   "outputs": [
    {
     "data": {
      "text/plain": [
       "array([[ 9,  3, 15, 13, 98],\n",
       "       [13, 20, 11,  6, 62],\n",
       "       [17, 15, 17, 18, 43]])"
      ]
     },
     "execution_count": 152,
     "metadata": {},
     "output_type": "execute_result"
    }
   ],
   "source": [
    "# 7  replace the second student score of student at the position 2 by 20\n",
    "data_set[1,1] = 20\n",
    "data_set\n"
   ]
  },
  {
   "cell_type": "code",
   "execution_count": 153,
   "metadata": {},
   "outputs": [
    {
     "data": {
      "text/plain": [
       "array([[ 9,  3, 15, 13, 98],\n",
       "       [13, 20, 11,  6, 62],\n",
       "       [17, 15, 17, 18, 43],\n",
       "       [ 4, 18,  6, 19, 92]])"
      ]
     },
     "execution_count": 153,
     "metadata": {},
     "output_type": "execute_result"
    }
   ],
   "source": [
    "# 8 add  a  new student\n",
    "new_student = np.random.randint(0,20,size=(5))\n",
    "new_student[4] = np.random.randint(0,100)\n",
    "data_set = np.vstack((data_set , new_student))\n",
    "data_set"
   ]
  },
  {
   "cell_type": "code",
   "execution_count": 154,
   "metadata": {},
   "outputs": [
    {
     "data": {
      "text/plain": [
       "array([[ 9, 13, 17,  4],\n",
       "       [ 3, 20, 15, 18],\n",
       "       [15, 11, 17,  6],\n",
       "       [13,  6, 18, 19],\n",
       "       [98, 62, 43, 92]])"
      ]
     },
     "execution_count": 154,
     "metadata": {},
     "output_type": "execute_result"
    }
   ],
   "source": [
    "# 9 transpose the data_set \n",
    "\n",
    "np.transpose(data_set)"
   ]
  },
  {
   "cell_type": "code",
   "execution_count": 155,
   "metadata": {},
   "outputs": [
    {
     "data": {
      "text/plain": [
       "array([11. , 16.5, 13. , 15.5, 77. ])"
      ]
     },
     "execution_count": 155,
     "metadata": {},
     "output_type": "execute_result"
    }
   ],
   "source": [
    "np.median(data_set , axis= 0)"
   ]
  }
 ],
 "metadata": {
  "kernelspec": {
   "display_name": "Python 3 (ipykernel)",
   "language": "python",
   "name": "python3"
  },
  "language_info": {
   "codemirror_mode": {
    "name": "ipython",
    "version": 3
   },
   "file_extension": ".py",
   "mimetype": "text/x-python",
   "name": "python",
   "nbconvert_exporter": "python",
   "pygments_lexer": "ipython3",
   "version": "3.11.5"
  }
 },
 "nbformat": 4,
 "nbformat_minor": 5
}
