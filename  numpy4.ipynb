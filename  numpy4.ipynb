{
 "cells": [
  {
   "cell_type": "code",
   "execution_count": 301,
   "id": "8d757137-5829-4d6e-9b67-b654614e270f",
   "metadata": {},
   "outputs": [
    {
     "data": {
      "text/plain": [
       "array([[[30, 40, 35],\n",
       "        [45, 55, 50],\n",
       "        [25, 30, 28],\n",
       "        [35, 38, 40]],\n",
       "\n",
       "       [[20, 25, 30],\n",
       "        [18, 20, 22],\n",
       "        [40, 38, 36],\n",
       "        [15, 10, 12]],\n",
       "\n",
       "       [[50, 55, 60],\n",
       "        [60, 65, 70],\n",
       "        [45, 48, 50],\n",
       "        [55, 50, 58]]])"
      ]
     },
     "execution_count": 301,
     "metadata": {},
     "output_type": "execute_result"
    }
   ],
   "source": [
    "import numpy as np\n",
    "sales_data = np.array([\n",
    "    [[30, 40, 35], [45, 55, 50], [25, 30, 28], [35, 38, 40]],\n",
    "    [[20, 25, 30], [18, 20, 22], [40, 38, 36], [15, 10, 12]],\n",
    "    [[50, 55, 60], [60, 65, 70], [45, 48, 50], [55, 50, 58]]\n",
    "])\n",
    "\n",
    "# 1 display sales_data\n",
    "sales_data\n"
   ]
  },
  {
   "cell_type": "code",
   "execution_count": 302,
   "metadata": {},
   "outputs": [
    {
     "data": {
      "text/plain": [
       "array([438, 474, 491])"
      ]
     },
     "execution_count": 302,
     "metadata": {},
     "output_type": "execute_result"
    }
   ],
   "source": [
    "# 2 displays the sum of each product's sales for all months\n",
    "\n",
    "sumProduct = np.sum(np.sum(sales_data , axis=1) , axis=0)\n",
    "sumProduct\n",
    "#np.sum(sales_data , axis=1)"
   ]
  },
  {
   "cell_type": "code",
   "execution_count": 303,
   "metadata": {},
   "outputs": [
    {
     "data": {
      "text/plain": [
       "array([36.5 , 39.5 , 40.92])"
      ]
     },
     "execution_count": 303,
     "metadata": {},
     "output_type": "execute_result"
    }
   ],
   "source": [
    "# 3 display the average per month\n",
    "average_for_month = np.round(np.mean(np.mean(sales_data  , axis=1) , axis= 0) , 2)\n",
    "average_for_month"
   ]
  },
  {
   "cell_type": "code",
   "execution_count": 304,
   "metadata": {},
   "outputs": [
    {
     "name": "stdout",
     "output_type": "stream",
     "text": [
      "journal of all  product 1 sales : \n",
      " [[30 45 25 35]\n",
      " [20 18 40 15]\n",
      " [50 60 45 55]]\n",
      "the best month of the product 1 :  month 10 \n",
      "with 60  sold \n",
      "journal of all  product 2 sales : \n",
      " [[40 55 30 38]\n",
      " [25 20 38 10]\n",
      " [55 65 48 50]]\n",
      "the best month of the product 2 :  month 10 \n",
      "with 65  sold \n",
      "journal of all  product 3 sales : \n",
      " [[35 50 28 40]\n",
      " [30 22 36 12]\n",
      " [60 70 50 58]]\n",
      "the best month of the product 3 :  month 10 \n",
      "with 70  sold \n"
     ]
    }
   ],
   "source": [
    "# 4 display the month with the highest sales per product\n",
    "the_best_months = np.argmax(sales_data, axis=1)\n",
    "the_best_months\n",
    "np.max(sales_data[:,: , 0])\n",
    "for i  in range(sales_data.shape[1] - 1) :\n",
    "    print(f'journal of all  product {i + 1} sales : \\n' , sales_data[:,:,i] )\n",
    "    print(f'the best month of the product {i + 1} :  month { np.argmax(sales_data[:,: , i]) + 1} ')\n",
    "    print(f'with {np.max(sales_data[:,: , i])}  sold ')\n",
    "    \n",
    "    \n",
    "\n"
   ]
  },
  {
   "cell_type": "code",
   "execution_count": 305,
   "metadata": {},
   "outputs": [
    {
     "name": "stdout",
     "output_type": "stream",
     "text": [
      "25.6 ns ± 5.97 ns per loop (mean ± std. dev. of 7 runs, 10,000,000 loops each)\n"
     ]
    }
   ],
   "source": [
    "# 5 and 6 the new dimension for the quarter and assign the sum of product 'sales in each quarter\n",
    " \n",
    "newData = np.array([])\n",
    "newData.resize(3,5,3)\n",
    "newData[: , : 4 , : ] = sales_data  \n",
    "newData[: , 4, : ] =  np.sum(newData[: , : 4 , : ] , axis=1 )\n",
    "%timeit newData"
   ]
  },
  {
   "cell_type": "code",
   "execution_count": 306,
   "metadata": {},
   "outputs": [
    {
     "data": {
      "text/plain": [
       "array([[[ 30.,  40.],\n",
       "        [ 45.,  55.],\n",
       "        [ 25.,  30.],\n",
       "        [ 35.,  38.],\n",
       "        [135., 163.]],\n",
       "\n",
       "       [[ 20.,  25.],\n",
       "        [ 18.,  20.],\n",
       "        [ 40.,  38.],\n",
       "        [ 15.,  10.],\n",
       "        [ 93.,  93.]],\n",
       "\n",
       "       [[ 50.,  55.],\n",
       "        [ 60.,  65.],\n",
       "        [ 45.,  48.],\n",
       "        [ 55.,  50.],\n",
       "        [210., 218.]]])"
      ]
     },
     "execution_count": 306,
     "metadata": {},
     "output_type": "execute_result"
    }
   ],
   "source": [
    "#  7 display the sales of two products\n",
    "\n",
    "newData[: , : ,  : 2 ]\n",
    "\n"
   ]
  },
  {
   "cell_type": "markdown",
   "metadata": {},
   "source": []
  },
  {
   "cell_type": "code",
   "execution_count": 307,
   "metadata": {},
   "outputs": [
    {
     "data": {
      "text/plain": [
       "array([[[ 30.,  40.,  35.],\n",
       "        [ 45.,  55.,  43.],\n",
       "        [ 25.,  30.,  28.],\n",
       "        [ 35.,  38.,  40.],\n",
       "        [135., 163., 146.]],\n",
       "\n",
       "       [[ 20.,  25.,  30.],\n",
       "        [ 18.,  20.,  22.],\n",
       "        [ 40.,  38.,  36.],\n",
       "        [ 15.,  10.,  12.],\n",
       "        [ 93.,  93., 100.]],\n",
       "\n",
       "       [[ 50.,  55.,  60.],\n",
       "        [ 60.,  65.,  70.],\n",
       "        [ 45.,  48.,  50.],\n",
       "        [ 55.,  50.,  58.],\n",
       "        [210., 218., 238.]]])"
      ]
     },
     "execution_count": 307,
     "metadata": {},
     "output_type": "execute_result"
    }
   ],
   "source": [
    "# 8 replace the third product sale for the second month by an random value between 30 and 60\n",
    "\n",
    "newData[0, 1 ,2] = np.random.randint(30,60)\n",
    "newData[: , 4, : ] =  np.sum(newData[: , : 4 , : ] , axis=1 )\n",
    "newData"
   ]
  },
  {
   "cell_type": "code",
   "execution_count": 308,
   "metadata": {},
   "outputs": [
    {
     "name": "stdout",
     "output_type": "stream",
     "text": [
      "the product 2 has the best quarter with 238.0\n"
     ]
    }
   ],
   "source": [
    "# 9 display the product with the best quarter\n",
    "for i in range(newData.shape[2]):\n",
    "    if np.any(newData[:,:,i] == np.max(newData))  :\n",
    "        print(f'the product {i} has the best quarter with {np.max(newData)}')\n",
    "    \n",
    "\n"
   ]
  },
  {
   "cell_type": "code",
   "execution_count": 309,
   "metadata": {},
   "outputs": [
    {
     "data": {
      "text/plain": [
       "array([[[ 30.,  35.,  40.],\n",
       "        [ 43.,  45.,  55.],\n",
       "        [ 25.,  28.,  30.],\n",
       "        [ 35.,  38.,  40.],\n",
       "        [135., 163., 146.]],\n",
       "\n",
       "       [[ 20.,  25.,  30.],\n",
       "        [ 18.,  20.,  22.],\n",
       "        [ 36.,  38.,  40.],\n",
       "        [ 10.,  12.,  15.],\n",
       "        [ 93.,  93., 100.]],\n",
       "\n",
       "       [[ 50.,  55.,  60.],\n",
       "        [ 60.,  65.,  70.],\n",
       "        [ 45.,  48.,  50.],\n",
       "        [ 50.,  55.,  58.],\n",
       "        [210., 218., 238.]]])"
      ]
     },
     "execution_count": 309,
     "metadata": {},
     "output_type": "execute_result"
    }
   ],
   "source": [
    "# 10 sort the data_sales by the  months for each product\n",
    "newData[:, :4, :].sort()\n",
    "\n",
    "newData"
   ]
  },
  {
   "cell_type": "code",
   "execution_count": 310,
   "metadata": {},
   "outputs": [
    {
     "data": {
      "text/plain": [
       "array([[[ 1.5 ,  2.8 ,  2.4 ],\n",
       "        [ 2.15,  3.6 ,  3.3 ],\n",
       "        [ 1.25,  2.24,  1.8 ],\n",
       "        [ 1.75,  3.04,  2.4 ],\n",
       "        [ 6.75, 13.04,  8.76]],\n",
       "\n",
       "       [[ 1.  ,  2.  ,  1.8 ],\n",
       "        [ 0.9 ,  1.6 ,  1.32],\n",
       "        [ 1.8 ,  3.04,  2.4 ],\n",
       "        [ 0.5 ,  0.96,  0.9 ],\n",
       "        [ 4.65,  7.44,  6.  ]],\n",
       "\n",
       "       [[ 2.5 ,  4.4 ,  3.6 ],\n",
       "        [ 3.  ,  5.2 ,  4.2 ],\n",
       "        [ 2.25,  3.84,  3.  ],\n",
       "        [ 2.5 ,  4.4 ,  3.48],\n",
       "        [10.5 , 17.44, 14.28]]])"
      ]
     },
     "execution_count": 310,
     "metadata": {},
     "output_type": "execute_result"
    }
   ],
   "source": [
    "unityPrice = np.array([0.05 , 0.08 , 0.06])\n",
    "turnover = np.array([])\n",
    "turnover = newData * unityPrice\n",
    "turnover\n",
    " \n"
   ]
  }
 ],
 "metadata": {
  "kernelspec": {
   "display_name": "Python 3 (ipykernel)",
   "language": "python",
   "name": "python3"
  },
  "language_info": {
   "codemirror_mode": {
    "name": "ipython",
    "version": 3
   },
   "file_extension": ".py",
   "mimetype": "text/x-python",
   "name": "python",
   "nbconvert_exporter": "python",
   "pygments_lexer": "ipython3",
   "version": "3.11.5"
  }
 },
 "nbformat": 4,
 "nbformat_minor": 5
}
